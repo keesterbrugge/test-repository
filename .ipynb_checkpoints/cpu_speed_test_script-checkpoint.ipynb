{
 "cells": [
  {
   "cell_type": "code",
   "execution_count": 37,
   "metadata": {
    "collapsed": false
   },
   "outputs": [
    {
     "name": "stdout",
     "output_type": "stream",
     "text": [
      "1000 loops, best of 3: 1.37 ms per loop\n"
     ]
    }
   ],
   "source": [
    "\n",
    "\n",
    "def f(n): \n",
    "    a = numpy.matrix([[ 5, 1 ,3], [ 1, 1 ,1], [ 1, 2 ,1]])\n",
    "    while n>0:\n",
    "        n -= 1\n",
    "        \n",
    "        \n",
    "        a = numpy.dot(a,a)\n",
    "    return a\n",
    "%timeit f(300)"
   ]
  },
  {
   "cell_type": "code",
   "execution_count": 48,
   "metadata": {
    "collapsed": false
   },
   "outputs": [
    {
     "name": "stdout",
     "output_type": "stream",
     "text": [
      "CPU times: user 21.3 s, sys: 99.6 ms, total: 21.4 s\n",
      "Wall time: 21.3 s\n"
     ]
    }
   ],
   "source": [
    "import random\n",
    "\n",
    "def bubbleSort_kees(n):\n",
    "    alist = [random.randint(0,n-1) for p in range(0,n-1)]\n",
    "    for passnum in range(len(alist)-1,0,-1):\n",
    "        for i in range(passnum):\n",
    "            if alist[i]>alist[i+1]:\n",
    "                temp = alist[i]\n",
    "                alist[i] = alist[i+1]\n",
    "                alist[i+1] = temp\n",
    "#     print(alist)\n",
    "\n",
    "%time bubbleSort_kees(10000)\n"
   ]
  },
  {
   "cell_type": "code",
   "execution_count": null,
   "metadata": {
    "collapsed": true
   },
   "outputs": [],
   "source": []
  },
  {
   "cell_type": "code",
   "execution_count": null,
   "metadata": {
    "collapsed": true
   },
   "outputs": [],
   "source": []
  }
 ],
 "metadata": {
  "kernelspec": {
   "display_name": "Python 2",
   "language": "python",
   "name": "python2"
  },
  "language_info": {
   "codemirror_mode": {
    "name": "ipython",
    "version": 2
   },
   "file_extension": ".py",
   "mimetype": "text/x-python",
   "name": "python",
   "nbconvert_exporter": "python",
   "pygments_lexer": "ipython2",
   "version": "2.7.10"
  }
 },
 "nbformat": 4,
 "nbformat_minor": 0
}
